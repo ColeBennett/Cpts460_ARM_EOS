{
  "nbformat": 4,
  "nbformat_minor": 0,
  "metadata": {
    "colab": {
      "name": "ML.H1.ipynb",
      "provenance": [],
      "collapsed_sections": [],
      "include_colab_link": true
    },
    "kernelspec": {
      "name": "python2",
      "display_name": "Python 2"
    }
  },
  "cells": [
    {
      "cell_type": "markdown",
      "metadata": {
        "id": "view-in-github",
        "colab_type": "text"
      },
      "source": [
        "<a href=\"https://colab.research.google.com/github/Ntaylor1027/Cpts460_ARM_EOS/blob/master/ML_H1.ipynb\" target=\"_parent\"><img src=\"https://colab.research.google.com/assets/colab-badge.svg\" alt=\"Open In Colab\"/></a>"
      ]
    },
    {
      "cell_type": "code",
      "metadata": {
        "id": "pI8hy0GttCM1",
        "colab_type": "code",
        "colab": {}
      },
      "source": [
        ""
      ],
      "execution_count": 0,
      "outputs": []
    },
    {
      "cell_type": "markdown",
      "metadata": {
        "id": "k7Z3f_sttGtY",
        "colab_type": "text"
      },
      "source": [
        "# **Homework Assignment #1**\n",
        "\n",
        "Assigned: January 13, 2020\n",
        "\n",
        "Due: January 27, 2020\n",
        "\n",
        "\n",
        "\n",
        "---\n",
        "\n",
        "This assignment consists of four questions that require a short answer and one that requires you to generate some Python code. You can enter your answers and your code directly in a Colaboratory notebook and upload the **shareable** link for your notebook as your homework submission.\n",
        "\n",
        "\n",
        "---\n",
        "\n",
        "#1.\n",
        "\n",
        "(8 points) Imagine that you are given the task of building a system to distinguish junk email from important messages. Consider aspects of junk email that let us know that it is junk and think about how a computer could use such information to automatically label messages as \"junk\" or \"real\".\n",
        "\n",
        "For this question, generate at least 10 features that a computer could automatically extract from messages and use to determine if a message is junk or real. For each feature, briefly describe how a computer would extract the feature and why it is useful for this task.\n",
        "\n",
        "---\n",
        "\n",
        "#2.\n",
        "\n",
        "(5 points) Imagine that you are given the task of building a system to distinguish fraudulent credit card transactions from legitimate credit card transactions. For this question, generate at least 10 features that a computer could automatically extract from transaction information and determine if the transaction is \"fraudulent\" or \"legitimate\". You do not need to provide explanations for the features in this problem.\n",
        "\n",
        "---\n",
        "\n",
        "#3.\n",
        "\n",
        "(8 points) Does the error of a hypothesis measured over a training set provide a pessimistically-biased estimate or an optimistically-biased estimate of the true error? Explain your answer.\n",
        "\n",
        "---\n",
        "\n",
        "#4.\n",
        "\n",
        "(25 points) Given the following data set containing three attributes and one class, construct a decision tree, then use this tree to determine the class value (Yes/No) of Stolen for a red domestic SUV.\n",
        "\n",
        "ID | Color | Type | Origin | Stolen\n",
        "--- | --- | --- | --- | ---\n",
        "1 | Red        |  Sports  | Domestic        | Yes\n",
        "2 | Red        |  Sports  | Domestic        | No\n",
        "3 | Red        |  Sports  | Domestic        | Yes\n",
        "4 | Yellow   |    Sports  | Domestic        | No \n",
        "5 | Yellow   |    Sports |  Imported        | Yes\n",
        "6 | Yellow   |    SUV     | Imported        | No\n",
        "7 | Yellow   |    SUV     | Imported        | Yes\n",
        "8 | Yellow   |    SUV     | Domestic        | No\n",
        "9 | Red        |  SUV     | Imported        | No\n",
        "10 | Red        |  Sports  | Imported        | Yes\n",
        "\n",
        "\n",
        "---\n",
        "\n",
        "\n",
        "#5.\n",
        "\n",
        "(80 points) In this problem you are asked to write a Python program using Google Colab to construct a decision tree using the data from problem #4. Your program should use the measures of entropy and gain discussed in class to select features, should resolve ties randomly, and should label leaf nodes using majority vote. You may hard code the dataset or (more elegantly) design the program to read the data from a file. Finally, your program should be able to use the learned decision tree to output a label for the new data point introduced in problem #4.  *Note that all of the code you write needs to be entirely your own, not copied from another existing program or using existing libraries that perform the specified functionality.*"
      ]
    },
    {
      "cell_type": "markdown",
      "metadata": {
        "id": "MybXjx2MtGDx",
        "colab_type": "text"
      },
      "source": [
        ""
      ]
    }
  ]
}